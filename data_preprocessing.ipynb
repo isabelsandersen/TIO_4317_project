{
 "cells": [
  {
   "cell_type": "code",
   "execution_count": 6,
   "metadata": {},
   "outputs": [
    {
     "name": "stdout",
     "output_type": "stream",
     "text": [
      "ADF Statistic: -1.1998631669669666\n",
      "p-value: 0.6736545712780757\n",
      "Critical Values: {'1%': np.float64(-3.4355754676859886), '5%': np.float64(-2.8638475772391665), '10%': np.float64(-2.5679985805677017)}\n",
      "Is the price series stationary? No (differencing required)\n",
      "Training data shape: (1235, 6)\n",
      "Testing data shape: (20, 6)\n"
     ]
    }
   ],
   "source": [
    "import pandas as pd\n",
    "import numpy as np\n",
    "import matplotlib.pyplot as plt\n",
    "import statsmodels.api as sm\n",
    "from statsmodels.tsa.stattools import adfuller\n",
    "from statsmodels.graphics.tsaplots import plot_acf, plot_pacf\n",
    "\n",
    "# Load the dataset\n",
    "file_path = \"S&P500_L5Y.csv\"  # Update this if needed\n",
    "df = pd.read_csv(file_path)\n",
    "\n",
    "# Convert Date column to datetime format and sort in ascending order\n",
    "df['Date'] = pd.to_datetime(df['Date'], format='%m/%d/%Y')\n",
    "df = df.sort_values(by='Date')\n",
    "\n",
    "# Rename 'Close/Last' for easier reference\n",
    "df.rename(columns={'Close/Last': 'Close'}, inplace=True)\n",
    "\n",
    "# Compute log returns\n",
    "df['Log_Returns'] = np.log(df['Close'] / df['Close'].shift(1))\n",
    "\n",
    "# Drop first row due to NaN in log returns\n",
    "df = df.dropna()\n",
    "\n",
    "# Perform Augmented Dickey-Fuller test to determine d (degree of differencing)\n",
    "adf_test = adfuller(df['Close'])\n",
    "d = 0 if adf_test[1] < 0.05 else 1  # If stationary, d=0; else, d=1\n",
    "\n",
    "print(f\"ADF Statistic: {adf_test[0]}\")\n",
    "print(f\"p-value: {adf_test[1]}\")\n",
    "print(f\"Critical Values: {adf_test[4]}\")\n",
    "print(f\"Is the price series stationary? {'Yes' if d == 0 else 'No (differencing required)'}\")\n",
    "\n",
    "# Split into training (256 weeks) and testing (4 weeks)\n",
    "train_size = 256 * 5  # 1280 days\n",
    "test_size = 4 * 5  # 20 days\n",
    "\n",
    "train_data = df.iloc[:-test_size]  # All but the last 20 days\n",
    "test_data = df.iloc[-test_size:]  # Last 20 days\n",
    "\n",
    "# Save to CSV if needed\n",
    "train_data.to_csv(\"train_data.csv\", index=False)\n",
    "test_data.to_csv(\"test_data.csv\", index=False)\n",
    "\n",
    "print(\"Training data shape:\", train_data.shape)\n",
    "print(\"Testing data shape:\", test_data.shape)\n"
   ]
  }
 ],
 "metadata": {
  "kernelspec": {
   "display_name": "base",
   "language": "python",
   "name": "python3"
  },
  "language_info": {
   "codemirror_mode": {
    "name": "ipython",
    "version": 3
   },
   "file_extension": ".py",
   "mimetype": "text/x-python",
   "name": "python",
   "nbconvert_exporter": "python",
   "pygments_lexer": "ipython3",
   "version": "3.9.19"
  },
  "orig_nbformat": 4,
  "vscode": {
   "interpreter": {
    "hash": "8da2dd7a38495f92fef7f207b3f0cca2972eb2be1af0e86eef515a1c9c6fb7fb"
   }
  }
 },
 "nbformat": 4,
 "nbformat_minor": 2
}
